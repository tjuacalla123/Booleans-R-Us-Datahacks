{
 "cells": [
  {
   "cell_type": "code",
   "execution_count": 83,
   "metadata": {},
   "outputs": [],
   "source": [
    "import numpy as np \n",
    "import pandas as pd\n",
    "import matplotlib as plt "
   ]
  },
  {
   "cell_type": "markdown",
   "metadata": {},
   "source": [
    "# 1. Data Cleaning"
   ]
  },
  {
   "cell_type": "code",
   "execution_count": 84,
   "metadata": {},
   "outputs": [],
   "source": [
    "# read data\n",
    "data_test = pd.read_csv('religious_text_test.csv')\n",
    "data_train = pd.read_csv('religious_text_train.csv')"
   ]
  },
  {
   "cell_type": "code",
   "execution_count": 90,
   "metadata": {},
   "outputs": [],
   "source": [
    "# fill missing values\n",
    "data_train[:] = data_train.fillna(0)\n",
    "data_test[:] = data_test.fillna(0)\n",
    "\n",
    "# rename the unnamed column to Chapters, '# foolishness' to just foolishness\n",
    "data_train.rename(columns = {'Unnamed: 0' : 'Chapters'}, inplace = True)\n",
    "data_test.rename(columns = {'# foolishness' : 'foolishness'}, inplace = True)\n",
    "\n",
    "# make sure everything is an integer\n",
    "data_test = data_test.applymap(int).astype(int)\n",
    "data_train.iloc[:, 1:] = data_train.iloc[:, 1:].applymap(int).astype(int)"
   ]
  },
  {
   "cell_type": "code",
   "execution_count": 91,
   "metadata": {},
   "outputs": [
    {
     "data": {
      "text/plain": [
       "True"
      ]
     },
     "execution_count": 91,
     "metadata": {},
     "output_type": "execute_result"
    }
   ],
   "source": [
    "# Data validation stuff, more cleaning\n",
    "\n",
    "all(data_train.iloc[:,1:].dtypes == 'int64') # True (All entries are integers)\n",
    "all(data_test.dtypes == 'int64') # True (All entries are integers)\n",
    "\n",
    "all(list(map(lambda a: ' ' not in a, data_train.iloc[:,1:].columns))) # Each column is one word\n",
    "all(list(map(lambda a: ' ' not in a, data_test.columns))) # Each column is one word"
   ]
  },
  {
   "cell_type": "code",
   "execution_count": 176,
   "metadata": {
    "scrolled": true
   },
   "outputs": [],
   "source": [
    "# Extraaaaaa way of getting the books lmao, dont do this\n",
    "books = [i[0] for i in list(map(lambda a: a.split('_'), data_train['Chapters'].unique())) if i[1] == 'Ch1']\n",
    "\n",
    "# dataframes segregated by chapters\n",
    "book_list = [data_train[[j in i for i in data_train['Chapters']]] for j in books]\n",
    "\n",
    "# top 20 words for each book in a list containing 8 series\n",
    "top_20_books = [j.sort_values(ascending = False) for j in [i.iloc[:,1:].sum() for i in book_list]]\n",
    "total_words_each = [i.sum() for i in top_20_books]\n",
    "\n",
    "# Series for each book (Top 20 Words)\n",
    "buddhism_20 = top_20_books[0]; tao_20 = top_20_books[1]\n",
    "upanishad_20 = top_20_books[2]; yoga_20 = top_20_books[3]\n",
    "proverb_20 = top_20_books[4]; ecclesiastes_20 = top_20_books[5]\n",
    "eccleasiasticus_20 = top_20_books[6]; wisdom_20 = top_20_books[7]\n",
    "\n",
    "# Top 20 words for all books\n",
    "all_20 = data_train.iloc[:,1:].sum().sort_values(ascending = False).sum()\n",
    "total_words = all_20.sum()"
   ]
  },
  {
   "cell_type": "code",
   "execution_count": 175,
   "metadata": {},
   "outputs": [
    {
     "data": {
      "text/plain": [
       "60609"
      ]
     },
     "execution_count": 175,
     "metadata": {},
     "output_type": "execute_result"
    }
   ],
   "source": [
    "total_words"
   ]
  },
  {
   "cell_type": "code",
   "execution_count": null,
   "metadata": {},
   "outputs": [],
   "source": [
    "data_train.head()"
   ]
  },
  {
   "cell_type": "code",
   "execution_count": null,
   "metadata": {},
   "outputs": [],
   "source": []
  }
 ],
 "metadata": {
  "kernelspec": {
   "display_name": "Python 3",
   "language": "python",
   "name": "python3"
  },
  "language_info": {
   "codemirror_mode": {
    "name": "ipython",
    "version": 3
   },
   "file_extension": ".py",
   "mimetype": "text/x-python",
   "name": "python",
   "nbconvert_exporter": "python",
   "pygments_lexer": "ipython3",
   "version": "3.8.5"
  }
 },
 "nbformat": 4,
 "nbformat_minor": 4
}
