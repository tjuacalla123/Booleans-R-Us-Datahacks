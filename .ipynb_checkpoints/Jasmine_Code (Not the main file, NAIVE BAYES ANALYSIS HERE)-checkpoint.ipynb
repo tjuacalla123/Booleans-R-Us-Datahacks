{
 "cells": [
  {
   "cell_type": "code",
   "execution_count": 3,
   "metadata": {},
   "outputs": [],
   "source": [
    "import numpy as np \n",
    "import pandas as pd\n",
    "import matplotlib.pyplot as plt \n",
    "#from wordcloud import WordCloud, STOPWORDS\n",
    "#from google.cloud import language_v1\n",
    "#from PIL import Image\n",
    "import io\n",
    "import os"
   ]
  },
  {
   "cell_type": "markdown",
   "metadata": {},
   "source": [
    "# 1. Data Cleaning"
   ]
  },
  {
   "cell_type": "code",
   "execution_count": 4,
   "metadata": {},
   "outputs": [],
   "source": [
    "# read data\n",
    "data_test = pd.read_csv('religious_text_test.csv')\n",
    "data_train = pd.read_csv('religious_text_train.csv')"
   ]
  },
  {
   "cell_type": "code",
   "execution_count": 5,
   "metadata": {},
   "outputs": [],
   "source": [
    "# fill missing values\n",
    "data_train[:] = data_train.fillna(0)\n",
    "data_test[:] = data_test.fillna(0)\n",
    "\n",
    "# rename the unnamed column to Chapters, '# foolishness' to just foolishness\n",
    "data_train.rename(columns = {'Unnamed: 0' : 'Chapters'}, inplace = True)\n",
    "data_test.rename(columns = {'# foolishness' : 'foolishness'}, inplace = True)\n",
    "\n",
    "# make sure everything is an integer\n",
    "data_test = data_test.applymap(int).astype(int)\n",
    "data_train.iloc[:, 1:] = data_train.iloc[:, 1:].applymap(int).astype(int)"
   ]
  },
  {
   "cell_type": "code",
   "execution_count": 6,
   "metadata": {},
   "outputs": [
    {
     "data": {
      "text/plain": [
       "True"
      ]
     },
     "execution_count": 6,
     "metadata": {},
     "output_type": "execute_result"
    }
   ],
   "source": [
    "# Data validation stuff, more cleaning\n",
    "\n",
    "all(data_train.iloc[:,1:].dtypes == 'int64') # True (All entries are integers)\n",
    "all(data_test.dtypes == 'int64') # True (All entries are integers)\n",
    "\n",
    "all(list(map(lambda a: ' ' not in a, data_train.iloc[:,1:].columns))) # Each column is one word\n",
    "all(list(map(lambda a: ' ' not in a, data_test.columns))) # Each column is one word"
   ]
  },
  {
   "cell_type": "code",
   "execution_count": 7,
   "metadata": {
    "scrolled": true
   },
   "outputs": [],
   "source": [
    "# Extraaaaaa way of getting the books lmao, dont do this\n",
    "books = [i[0] for i in list(map(lambda a: a.split('_'), data_train['Chapters'].unique())) if i[1] == 'Ch1']\n",
    "\n",
    "# dataframes segregated by chapters\n",
    "book_list = [data_train[[j in i for i in data_train['Chapters']]] for j in books]\n",
    "\n",
    "# top 20 words for each book in a list containing 8 series\n",
    "top_20_books = [j.sort_values(ascending = False) for j in [i.iloc[:,1:].sum() for i in book_list]]\n",
    "\n",
    "# total words in each book\n",
    "total_words_book = dict(zip(books, [i.sum() for i in top_20_books]))\n",
    "\n",
    "# total words in each chapter of each book (dictionary)\n",
    "total_words_chapter = dict(zip(books,[pd.Series(data=i.iloc[:,1:].sum(axis=1).tolist(), index=i.iloc[:,0]) for i in book_list]))\n",
    "\n",
    "# Series for each book (Top 20 Words)\n",
    "buddhism_20 = top_20_books[0]; tao_20 = top_20_books[1]\n",
    "upanishad_20 = top_20_books[2]; yoga_20 = top_20_books[3]\n",
    "proverb_20 = top_20_books[4]; ecclesiastes_20 = top_20_books[5]\n",
    "eccleasiasticus_20 = top_20_books[6]; wisdom_20 = top_20_books[7]\n",
    "\n",
    "# Top 20 words for all books\n",
    "all_20 = data_train.iloc[:,1:].sum().sort_values(ascending = False)\n",
    "# total words in the dataframe \n",
    "total_words = all_20.sum()"
   ]
  },
  {
   "cell_type": "code",
   "execution_count": null,
   "metadata": {},
   "outputs": [],
   "source": [
    "# Word cloud visualizations (ready for graphing)\n",
    "\n",
    "# for all books in total\n",
    "desc = all_20[:20].index.tolist(); counts = all_20[:20].tolist()\n",
    "wordcloud_20 = WordCloud(max_words = 20).generate_from_frequencies(dict(zip(desc,counts))) # stored here\n",
    "\n",
    "# for each book (in a list)\n",
    "word_cloud_each = [] # all in this list\n",
    "for i in top_20_books:\n",
    "    desc = i[:20].index.tolist(); counts = i[:20].tolist()\n",
    "    word_cloud_each.append(WordCloud(max_words = 20).generate_from_frequencies(dict(zip(desc,counts))))\n",
    "\n"
   ]
  },
  {
   "cell_type": "code",
   "execution_count": null,
   "metadata": {
    "scrolled": true
   },
   "outputs": [],
   "source": [
    "\n",
    "\n",
    "# Instantiates a client\n",
    "client = language_v1.LanguageServiceClient()\n",
    "\n",
    "# The text to analyze\n",
    "text = \"Hello, world!\"\n",
    "document = language_v1.Document(content=text, type_=language_v1.Document.Type.PLAIN_TEXT)\n",
    "\n",
    "# Detects the sentiment of the text\n",
    "sentiment = client.analyze_sentiment(request={'document': document}).document_sentiment\n",
    "\n",
    "print(\"Text: {}\".format(text))\n",
    "print(\"Sentiment: {}, {}\".format(sentiment.score, sentiment.magnitude))"
   ]
  },
  {
   "cell_type": "code",
   "execution_count": null,
   "metadata": {},
   "outputs": [],
   "source": [
    "import io\n",
    "import os\n",
    "\n",
    "os.environ[\"GOOGLE_APPLICATION_CREDENTIALS\"]=\"lustrous-center-305403-e1dd08c2ab3c.json\"\n",
    "\n",
    "\n",
    "\n",
    "def sample_analyze_sentiment(text_content):\n",
    "    \"\"\"\n",
    "    Analyzing Sentiment in a String\n",
    "\n",
    "    Args:\n",
    "      text_content The text content to analyze\n",
    "    \"\"\"\n",
    "\n",
    "    client = language_v1.LanguageServiceClient()\n",
    "\n",
    "   \n",
    "\n",
    "    # Available types: PLAIN_TEXT, HTML\n",
    "    type_ = language_v1.Document.Type.PLAIN_TEXT\n",
    "\n",
    "    # Optional. If not specified, the language is automatically detected.\n",
    "    # For list of supported languages:\n",
    "    # https://cloud.google.com/natural-language/docs/languages\n",
    "    language = \"en\"\n",
    "    document = {\"content\": text_content, \"type_\": type_, \"language\": language}\n",
    "\n",
    "    # Available values: NONE, UTF8, UTF16, UTF32\n",
    "    encoding_type = language_v1.EncodingType.UTF8\n",
    "\n",
    "    response = client.analyze_sentiment(request = {'document': document, 'encoding_type': encoding_type})\n",
    "    # Get overall sentiment of the input document\n",
    "    print(u\"Document sentiment score: {}\".format(response.document_sentiment.score))\n",
    "    print(\n",
    "        u\"Document sentiment magnitude: {}\".format(\n",
    "            response.document_sentiment.magnitude\n",
    "        )\n",
    "    )\n",
    "    # Get sentiment for all sentences in the document\n",
    "    for sentence in response.sentences:\n",
    "        print(u\"Sentence text: {}\".format(sentence.text.content))\n",
    "        print(u\"Sentence sentiment score: {}\".format(sentence.sentiment.score))\n",
    "        print(u\"Sentence sentiment magnitude: {}\".format(sentence.sentiment.magnitude))\n",
    "\n",
    "    # Get the language of the text, which will be the same as\n",
    "    # the language specified in the request or, if not specified,\n",
    "    # the automatically-detected language.\n",
    "    print(u\"Language of the text: {}\".format(response.language))\n",
    "    \n",
    "text = 'I love my wife I love my life'\n",
    "sample_analyze_sentiment(text)"
   ]
  },
  {
   "cell_type": "code",
   "execution_count": null,
   "metadata": {},
   "outputs": [],
   "source": [
    "data_train.describe()\n",
    "                "
   ]
  },
  {
   "cell_type": "markdown",
   "metadata": {},
   "source": [
    "# 2. Visualizations"
   ]
  },
  {
   "cell_type": "code",
   "execution_count": 7,
   "metadata": {
    "scrolled": false
   },
   "outputs": [
    {
     "data": {
      "text/plain": [
       "{'Buddhism': 6624,\n",
       " 'TaoTeChing': 4608,\n",
       " 'Upanishad': 6579,\n",
       " 'YogaSutra': 12443,\n",
       " 'BookOfProverb': 7716,\n",
       " 'BookOfEcclesiastes': 2773,\n",
       " 'BookOfEccleasiasticus': 14839,\n",
       " 'BookOfWisdom': 5027}"
      ]
     },
     "execution_count": 7,
     "metadata": {},
     "output_type": "execute_result"
    }
   ],
   "source": [
    "total_words_book"
   ]
  },
  {
   "cell_type": "code",
   "execution_count": 8,
   "metadata": {},
   "outputs": [
    {
     "data": {
      "text/plain": [
       "{'Buddhism': Chapters\n",
       " Buddhism_Ch1      298\n",
       " Buddhism_Ch2      107\n",
       " Buddhism_Ch3      188\n",
       " Buddhism_Ch4      129\n",
       " Buddhism_Ch5       15\n",
       " Buddhism_Ch6      244\n",
       " Buddhism_Ch7      226\n",
       " Buddhism_Ch8       89\n",
       " Buddhism_Ch9      110\n",
       " Buddhism_Ch10      30\n",
       " Buddhism_Ch11     339\n",
       " Buddhism_Ch12      59\n",
       " Buddhism_Ch13      16\n",
       " Buddhism_Ch14       0\n",
       " Buddhism_Ch15      45\n",
       " Buddhism_Ch16      56\n",
       " Buddhism_Ch17      31\n",
       " Buddhism_Ch18     144\n",
       " Buddhism_Ch19      17\n",
       " Buddhism_Ch20       8\n",
       " Buddhism_Ch21     166\n",
       " Buddhism_Ch22      80\n",
       " Buddhism_Ch23     108\n",
       " Buddhism_Ch24     178\n",
       " Buddhism_Ch25      29\n",
       " Buddhism_Ch26      42\n",
       " Buddhism_Ch27      29\n",
       " Buddhism_Ch28      25\n",
       " Buddhism_Ch29      86\n",
       " Buddhism_Ch30     257\n",
       " Buddhism_Ch31     182\n",
       " Buddhism_Ch32     109\n",
       " Buddhism_Ch33     174\n",
       " Buddhism_Ch34     204\n",
       " Buddhism_Ch35      57\n",
       " Buddhism_Ch36      86\n",
       " Buddhism_Ch37    1194\n",
       " Buddhism_Ch38     272\n",
       " Buddhism_Ch39     139\n",
       " Buddhism_Ch40      30\n",
       " Buddhism_Ch41     220\n",
       " Buddhism_Ch42     522\n",
       " Buddhism_Ch43      13\n",
       " Buddhism_Ch44     124\n",
       " Buddhism_Ch45     114\n",
       " Buddhism_Ch46      33\n",
       " dtype: int64,\n",
       " 'TaoTeChing': Chapters\n",
       " TaoTeChing_Ch1     53\n",
       " TaoTeChing_Ch2     85\n",
       " TaoTeChing_Ch3     54\n",
       " TaoTeChing_Ch4     37\n",
       " TaoTeChing_Ch5     46\n",
       "                    ..\n",
       " TaoTeChing_Ch77    54\n",
       " TaoTeChing_Ch78    54\n",
       " TaoTeChing_Ch79    42\n",
       " TaoTeChing_Ch80    80\n",
       " TaoTeChing_Ch81    32\n",
       " Length: 81, dtype: int64,\n",
       " 'Upanishad': Chapters\n",
       " Upanishad_Ch1       73\n",
       " Upanishad_Ch2       76\n",
       " Upanishad_Ch3      101\n",
       " Upanishad_Ch4       69\n",
       " Upanishad_Ch5       36\n",
       "                   ... \n",
       " Upanishad_Ch158     44\n",
       " Upanishad_Ch159     15\n",
       " Upanishad_Ch160     20\n",
       " Upanishad_Ch161     15\n",
       " Upanishad_Ch162     36\n",
       " Length: 162, dtype: int64,\n",
       " 'YogaSutra': Chapters\n",
       " YogaSutra_Ch1      43\n",
       " YogaSutra_Ch2      26\n",
       " YogaSutra_Ch3      61\n",
       " YogaSutra_Ch4      53\n",
       " YogaSutra_Ch5      24\n",
       "                    ..\n",
       " YogaSutra_Ch185    41\n",
       " YogaSutra_Ch186    62\n",
       " YogaSutra_Ch187    43\n",
       " YogaSutra_Ch188    67\n",
       " YogaSutra_Ch189    99\n",
       " Length: 189, dtype: int64,\n",
       " 'BookOfProverb': Chapters\n",
       " BookOfProverb_Ch1     266\n",
       " BookOfProverb_Ch2     170\n",
       " BookOfProverb_Ch3     273\n",
       " BookOfProverb_Ch4     242\n",
       " BookOfProverb_Ch5     184\n",
       " BookOfProverb_Ch6     343\n",
       " BookOfProverb_Ch7     213\n",
       " BookOfProverb_Ch8     251\n",
       " BookOfProverb_Ch9     138\n",
       " BookOfProverb_Ch10    259\n",
       " BookOfProverb_Ch11    244\n",
       " BookOfProverb_Ch12    235\n",
       " BookOfProverb_Ch13    214\n",
       " BookOfProverb_Ch14    279\n",
       " BookOfProverb_Ch15    263\n",
       " BookOfProverb_Ch16    295\n",
       " BookOfProverb_Ch17    231\n",
       " BookOfProverb_Ch18    203\n",
       " BookOfProverb_Ch19    238\n",
       " BookOfProverb_Ch20    226\n",
       " BookOfProverb_Ch21    227\n",
       " BookOfProverb_Ch22    240\n",
       " BookOfProverb_Ch23    306\n",
       " BookOfProverb_Ch24    281\n",
       " BookOfProverb_Ch25    294\n",
       " BookOfProverb_Ch26    245\n",
       " BookOfProverb_Ch27    253\n",
       " BookOfProverb_Ch28    250\n",
       " BookOfProverb_Ch29    244\n",
       " BookOfProverb_Ch30    361\n",
       " BookOfProverb_Ch31    248\n",
       " dtype: int64,\n",
       " 'BookOfEcclesiastes': Chapters\n",
       " BookOfEcclesiastes_Ch1     180\n",
       " BookOfEcclesiastes_Ch2     306\n",
       " BookOfEcclesiastes_Ch3     257\n",
       " BookOfEcclesiastes_Ch4     185\n",
       " BookOfEcclesiastes_Ch5     240\n",
       " BookOfEcclesiastes_Ch6     124\n",
       " BookOfEcclesiastes_Ch7     327\n",
       " BookOfEcclesiastes_Ch8     262\n",
       " BookOfEcclesiastes_Ch9     280\n",
       " BookOfEcclesiastes_Ch10    196\n",
       " BookOfEcclesiastes_Ch11    185\n",
       " BookOfEcclesiastes_Ch12    231\n",
       " dtype: int64,\n",
       " 'BookOfEccleasiasticus': Chapters\n",
       " BookOfEccleasiasticus_Ch1     310\n",
       " BookOfEccleasiasticus_Ch2     215\n",
       " BookOfEccleasiasticus_Ch3     320\n",
       " BookOfEccleasiasticus_Ch4     309\n",
       " BookOfEccleasiasticus_Ch5     172\n",
       " BookOfEccleasiasticus_Ch6     376\n",
       " BookOfEccleasiasticus_Ch7     387\n",
       " BookOfEccleasiasticus_Ch8     190\n",
       " BookOfEccleasiasticus_Ch9     243\n",
       " BookOfEccleasiasticus_Ch10    318\n",
       " BookOfEccleasiasticus_Ch11    349\n",
       " BookOfEccleasiasticus_Ch12    195\n",
       " BookOfEccleasiasticus_Ch13    313\n",
       " BookOfEccleasiasticus_Ch14    254\n",
       " BookOfEccleasiasticus_Ch15    208\n",
       " BookOfEccleasiasticus_Ch16    299\n",
       " BookOfEccleasiasticus_Ch17    293\n",
       " BookOfEccleasiasticus_Ch18    315\n",
       " BookOfEccleasiasticus_Ch19    265\n",
       " BookOfEccleasiasticus_Ch20    278\n",
       " BookOfEccleasiasticus_Ch21    291\n",
       " BookOfEccleasiasticus_Ch22    319\n",
       " BookOfEccleasiasticus_Ch23    414\n",
       " BookOfEccleasiasticus_Ch24    400\n",
       " BookOfEccleasiasticus_Ch25    268\n",
       " BookOfEccleasiasticus_Ch26    268\n",
       " BookOfEccleasiasticus_Ch27    316\n",
       " BookOfEccleasiasticus_Ch28    306\n",
       " BookOfEccleasiasticus_Ch29    323\n",
       " BookOfEccleasiasticus_Ch30    247\n",
       " BookOfEccleasiasticus_Ch31    355\n",
       " BookOfEccleasiasticus_Ch32    263\n",
       " BookOfEccleasiasticus_Ch33    340\n",
       " BookOfEccleasiasticus_Ch34    274\n",
       " BookOfEccleasiasticus_Ch35    210\n",
       " BookOfEccleasiasticus_Ch36    289\n",
       " BookOfEccleasiasticus_Ch37    308\n",
       " BookOfEccleasiasticus_Ch38    390\n",
       " BookOfEccleasiasticus_Ch39    359\n",
       " BookOfEccleasiasticus_Ch40    287\n",
       " BookOfEccleasiasticus_Ch41    259\n",
       " BookOfEccleasiasticus_Ch42    291\n",
       " BookOfEccleasiasticus_Ch43    314\n",
       " BookOfEccleasiasticus_Ch44    209\n",
       " BookOfEccleasiasticus_Ch45    303\n",
       " BookOfEccleasiasticus_Ch46    260\n",
       " BookOfEccleasiasticus_Ch47    557\n",
       " BookOfEccleasiasticus_Ch48    194\n",
       " BookOfEccleasiasticus_Ch49    323\n",
       " BookOfEccleasiasticus_Ch50    293\n",
       " dtype: int64,\n",
       " 'BookOfWisdom': Chapters\n",
       " BookOfWisdom_Ch1     165\n",
       " BookOfWisdom_Ch2     260\n",
       " BookOfWisdom_Ch3     175\n",
       " BookOfWisdom_Ch4     209\n",
       " BookOfWisdom_Ch5     262\n",
       " BookOfWisdom_Ch6     226\n",
       " BookOfWisdom_Ch7     277\n",
       " BookOfWisdom_Ch8     221\n",
       " BookOfWisdom_Ch9     215\n",
       " BookOfWisdom_Ch10    266\n",
       " BookOfWisdom_Ch11    325\n",
       " BookOfWisdom_Ch12    373\n",
       " BookOfWisdom_Ch13    217\n",
       " BookOfWisdom_Ch14    347\n",
       " BookOfWisdom_Ch15    237\n",
       " BookOfWisdom_Ch16    378\n",
       " BookOfWisdom_Ch17    246\n",
       " BookOfWisdom_Ch18    344\n",
       " BookOfWisdom_Ch19    284\n",
       " dtype: int64}"
      ]
     },
     "execution_count": 8,
     "metadata": {},
     "output_type": "execute_result"
    }
   ],
   "source": [
    "total_words_chapter"
   ]
  },
  {
   "cell_type": "code",
   "execution_count": 33,
   "metadata": {},
   "outputs": [
    {
     "data": {
      "text/plain": [
       "<BarContainer object of 46 artists>"
      ]
     },
     "execution_count": 33,
     "metadata": {},
     "output_type": "execute_result"
    },
    {
     "data": {
      "image/png": "[encoded data removed]",
      "text/plain": [
       "<Figure size 432x288 with 1 Axes>"
      ]
     },
     "metadata": {
      "needs_background": "light"
     },
     "output_type": "display_data"
    }
   ],
   "source": [
    "Buddhism_chapters = [key for key in total_words_chapter[\"Buddhism\"].keys()]\n",
    "Buddhism_chapters_count = [total_words_chapter[\"Buddhism\"][key] for key in total_words_chapter[\"Buddhism\"].keys()]\n",
    "\n",
    "plt.bar(Buddhism_chapters, Buddhism_chapters_count, color='green')"
   ]
  },
  {
   "cell_type": "code",
   "execution_count": 70,
   "metadata": {},
   "outputs": [
    {
     "data": {
      "image/png": "[encoded data removed]",
      "text/plain": [
       "<Figure size 432x288 with 8 Axes>"
      ]
     },
     "metadata": {
      "needs_background": "light"
     },
     "output_type": "display_data"
    }
   ],
   "source": [
    "figure, axes = plt.subplots(nrows=2, ncols=4)\n",
    "plt.title(\"Words Per Chapter\")\n",
    "index = 1\n",
    "for book in total_words_chapter.keys():\n",
    "    chapters = [key for key in total_words_chapter[book].keys()]\n",
    "    chapters_count = [total_words_chapter[book][key] for key in total_words_chapter[book].keys()]\n",
    "    \n",
    "    plt.subplot(2, 4, index) # row 1, col 2 index 1\n",
    "    plt.bar(chapters, chapters_count)\n",
    "    plt.ylim(0, 1200)\n",
    "    plt.title(book)\n",
    "    plt.xticks(\" \")\n",
    "    index += 1\n",
    "\n",
    "# plt.show()\n",
    "\n",
    "# plt.xlabel(\"Chapters\")\n",
    "# plt.ylabel(\"Word Count\")\n",
    "# figure.tight_layout(pad = 4.0)\n",
    "\n",
    "plt.subplots_adjust(left=0.1,\n",
    "                    bottom=0.1, \n",
    "                    right=1.2, \n",
    "                    top=0.9, \n",
    "                    wspace=0.8, \n",
    "                    hspace=0.4)\n",
    "\n",
    "\n",
    "# plt.xticks(x_pos, x)\n",
    "\n",
    "plt.show()"
   ]
  },
  {
   "cell_type": "code",
   "execution_count": 72,
   "metadata": {},
   "outputs": [
    {
     "data": {
      "image/png": "[encoded data removed]",
      "text/plain": [
       "<Figure size 432x288 with 1 Axes>"
      ]
     },
     "metadata": {
      "needs_background": "light"
     },
     "output_type": "display_data"
    }
   ],
   "source": [
    "chapters_dict = {}\n",
    "for book in total_words_chapter.keys():\n",
    "    chapters = [key for key in total_words_chapter[book].keys()]\n",
    "    chapters_count = [total_words_chapter[book][key] for key in total_words_chapter[book].keys()]\n",
    "    #chapters_dict[book] = chapters_count\n",
    "    plt.bar(chapters, chapters_count)\n",
    "\n",
    "# fig, ax = plt.subplots()\n",
    "# ax.bar(chapters_dict.values())\n",
    "# ax.set_xticklabels(chapters_dict.keys())\n",
    "# plt.show()\n",
    "\n",
    "plt.xlabel(\"Chapters\")\n",
    "plt.ylabel(\"Word Count\")\n",
    "plt.xticks(\" \")\n",
    "# plt.title(\"Energy output from various fuel sources\")\n",
    "\n",
    "# plt.xticks(x_pos, x)\n",
    "\n",
    "plt.show()"
   ]
  },
  {
   "cell_type": "code",
   "execution_count": 30,
   "metadata": {},
   "outputs": [
    {
     "data": {
      "image/png": "[encoded data removed]",
      "text/plain": [
       "<Figure size 432x288 with 1 Axes>"
      ]
     },
     "metadata": {
      "needs_background": "light"
     },
     "output_type": "display_data"
    }
   ],
   "source": [
    "# chapters = []\n",
    "# for book in total_words_chapter.keys():\n",
    "#     chapters = [key for key in total_words_chapter[book].keys()]\n",
    "#     chapters_count = [total_words_chapter[book][key] for key in total_words_chapter[book].keys()]\n",
    "#     chapters.append(chapters_count)\n",
    "\n",
    "# plt.boxplot(chapters, vert = False)\n",
    "# plt.title(book)\n",
    "# plt.show()\n",
    "\n",
    "\n",
    "chapters_dict = {}\n",
    "for book in total_words_chapter.keys():\n",
    "    chapters = [key for key in total_words_chapter[book].keys()]\n",
    "    chapters_count = [total_words_chapter[book][key] for key in total_words_chapter[book].keys()]\n",
    "    chapters_dict[book] = chapters_count\n",
    "\n",
    "fig, ax = plt.subplots()\n",
    "ax.boxplot(chapters_dict.values())\n",
    "ax.set_xticklabels(chapters_dict.keys())\n",
    "plt.show()"
   ]
  },
  {
   "cell_type": "code",
   "execution_count": 76,
   "metadata": {},
   "outputs": [
    {
     "name": "stdout",
     "output_type": "stream",
     "text": [
      "{'Buddhism': Chapters\n",
      "Buddhism_Ch1      298\n",
      "Buddhism_Ch2      107\n",
      "Buddhism_Ch3      188\n",
      "Buddhism_Ch4      129\n",
      "Buddhism_Ch5       15\n",
      "Buddhism_Ch6      244\n",
      "Buddhism_Ch7      226\n",
      "Buddhism_Ch8       89\n",
      "Buddhism_Ch9      110\n",
      "Buddhism_Ch10      30\n",
      "Buddhism_Ch11     339\n",
      "Buddhism_Ch12      59\n",
      "Buddhism_Ch13      16\n",
      "Buddhism_Ch14       0\n",
      "Buddhism_Ch15      45\n",
      "Buddhism_Ch16      56\n",
      "Buddhism_Ch17      31\n",
      "Buddhism_Ch18     144\n",
      "Buddhism_Ch19      17\n",
      "Buddhism_Ch20       8\n",
      "Buddhism_Ch21     166\n",
      "Buddhism_Ch22      80\n",
      "Buddhism_Ch23     108\n",
      "Buddhism_Ch24     178\n",
      "Buddhism_Ch25      29\n",
      "Buddhism_Ch26      42\n",
      "Buddhism_Ch27      29\n",
      "Buddhism_Ch28      25\n",
      "Buddhism_Ch29      86\n",
      "Buddhism_Ch30     257\n",
      "Buddhism_Ch31     182\n",
      "Buddhism_Ch32     109\n",
      "Buddhism_Ch33     174\n",
      "Buddhism_Ch34     204\n",
      "Buddhism_Ch35      57\n",
      "Buddhism_Ch36      86\n",
      "Buddhism_Ch37    1194\n",
      "Buddhism_Ch38     272\n",
      "Buddhism_Ch39     139\n",
      "Buddhism_Ch40      30\n",
      "Buddhism_Ch41     220\n",
      "Buddhism_Ch42     522\n",
      "Buddhism_Ch43      13\n",
      "Buddhism_Ch44     124\n",
      "Buddhism_Ch45     114\n",
      "Buddhism_Ch46      33\n",
      "dtype: int64, 'TaoTeChing': Chapters\n",
      "TaoTeChing_Ch1     53\n",
      "TaoTeChing_Ch2     85\n",
      "TaoTeChing_Ch3     54\n",
      "TaoTeChing_Ch4     37\n",
      "TaoTeChing_Ch5     46\n",
      "                   ..\n",
      "TaoTeChing_Ch77    54\n",
      "TaoTeChing_Ch78    54\n",
      "TaoTeChing_Ch79    42\n",
      "TaoTeChing_Ch80    80\n",
      "TaoTeChing_Ch81    32\n",
      "Length: 81, dtype: int64, 'Upanishad': Chapters\n",
      "Upanishad_Ch1       73\n",
      "Upanishad_Ch2       76\n",
      "Upanishad_Ch3      101\n",
      "Upanishad_Ch4       69\n",
      "Upanishad_Ch5       36\n",
      "                  ... \n",
      "Upanishad_Ch158     44\n",
      "Upanishad_Ch159     15\n",
      "Upanishad_Ch160     20\n",
      "Upanishad_Ch161     15\n",
      "Upanishad_Ch162     36\n",
      "Length: 162, dtype: int64, 'YogaSutra': Chapters\n",
      "YogaSutra_Ch1      43\n",
      "YogaSutra_Ch2      26\n",
      "YogaSutra_Ch3      61\n",
      "YogaSutra_Ch4      53\n",
      "YogaSutra_Ch5      24\n",
      "                   ..\n",
      "YogaSutra_Ch185    41\n",
      "YogaSutra_Ch186    62\n",
      "YogaSutra_Ch187    43\n",
      "YogaSutra_Ch188    67\n",
      "YogaSutra_Ch189    99\n",
      "Length: 189, dtype: int64, 'BookOfProverb': Chapters\n",
      "BookOfProverb_Ch1     266\n",
      "BookOfProverb_Ch2     170\n",
      "BookOfProverb_Ch3     273\n",
      "BookOfProverb_Ch4     242\n",
      "BookOfProverb_Ch5     184\n",
      "BookOfProverb_Ch6     343\n",
      "BookOfProverb_Ch7     213\n",
      "BookOfProverb_Ch8     251\n",
      "BookOfProverb_Ch9     138\n",
      "BookOfProverb_Ch10    259\n",
      "BookOfProverb_Ch11    244\n",
      "BookOfProverb_Ch12    235\n",
      "BookOfProverb_Ch13    214\n",
      "BookOfProverb_Ch14    279\n",
      "BookOfProverb_Ch15    263\n",
      "BookOfProverb_Ch16    295\n",
      "BookOfProverb_Ch17    231\n",
      "BookOfProverb_Ch18    203\n",
      "BookOfProverb_Ch19    238\n",
      "BookOfProverb_Ch20    226\n",
      "BookOfProverb_Ch21    227\n",
      "BookOfProverb_Ch22    240\n",
      "BookOfProverb_Ch23    306\n",
      "BookOfProverb_Ch24    281\n",
      "BookOfProverb_Ch25    294\n",
      "BookOfProverb_Ch26    245\n",
      "BookOfProverb_Ch27    253\n",
      "BookOfProverb_Ch28    250\n",
      "BookOfProverb_Ch29    244\n",
      "BookOfProverb_Ch30    361\n",
      "BookOfProverb_Ch31    248\n",
      "dtype: int64, 'BookOfEcclesiastes': Chapters\n",
      "BookOfEcclesiastes_Ch1     180\n",
      "BookOfEcclesiastes_Ch2     306\n",
      "BookOfEcclesiastes_Ch3     257\n",
      "BookOfEcclesiastes_Ch4     185\n",
      "BookOfEcclesiastes_Ch5     240\n",
      "BookOfEcclesiastes_Ch6     124\n",
      "BookOfEcclesiastes_Ch7     327\n",
      "BookOfEcclesiastes_Ch8     262\n",
      "BookOfEcclesiastes_Ch9     280\n",
      "BookOfEcclesiastes_Ch10    196\n",
      "BookOfEcclesiastes_Ch11    185\n",
      "BookOfEcclesiastes_Ch12    231\n",
      "dtype: int64, 'BookOfEccleasiasticus': Chapters\n",
      "BookOfEccleasiasticus_Ch1     310\n",
      "BookOfEccleasiasticus_Ch2     215\n",
      "BookOfEccleasiasticus_Ch3     320\n",
      "BookOfEccleasiasticus_Ch4     309\n",
      "BookOfEccleasiasticus_Ch5     172\n",
      "BookOfEccleasiasticus_Ch6     376\n",
      "BookOfEccleasiasticus_Ch7     387\n",
      "BookOfEccleasiasticus_Ch8     190\n",
      "BookOfEccleasiasticus_Ch9     243\n",
      "BookOfEccleasiasticus_Ch10    318\n",
      "BookOfEccleasiasticus_Ch11    349\n",
      "BookOfEccleasiasticus_Ch12    195\n",
      "BookOfEccleasiasticus_Ch13    313\n",
      "BookOfEccleasiasticus_Ch14    254\n",
      "BookOfEccleasiasticus_Ch15    208\n",
      "BookOfEccleasiasticus_Ch16    299\n",
      "BookOfEccleasiasticus_Ch17    293\n",
      "BookOfEccleasiasticus_Ch18    315\n",
      "BookOfEccleasiasticus_Ch19    265\n",
      "BookOfEccleasiasticus_Ch20    278\n",
      "BookOfEccleasiasticus_Ch21    291\n",
      "BookOfEccleasiasticus_Ch22    319\n",
      "BookOfEccleasiasticus_Ch23    414\n",
      "BookOfEccleasiasticus_Ch24    400\n",
      "BookOfEccleasiasticus_Ch25    268\n",
      "BookOfEccleasiasticus_Ch26    268\n",
      "BookOfEccleasiasticus_Ch27    316\n",
      "BookOfEccleasiasticus_Ch28    306\n",
      "BookOfEccleasiasticus_Ch29    323\n",
      "BookOfEccleasiasticus_Ch30    247\n",
      "BookOfEccleasiasticus_Ch31    355\n",
      "BookOfEccleasiasticus_Ch32    263\n",
      "BookOfEccleasiasticus_Ch33    340\n",
      "BookOfEccleasiasticus_Ch34    274\n",
      "BookOfEccleasiasticus_Ch35    210\n",
      "BookOfEccleasiasticus_Ch36    289\n",
      "BookOfEccleasiasticus_Ch37    308\n",
      "BookOfEccleasiasticus_Ch38    390\n",
      "BookOfEccleasiasticus_Ch39    359\n",
      "BookOfEccleasiasticus_Ch40    287\n",
      "BookOfEccleasiasticus_Ch41    259\n",
      "BookOfEccleasiasticus_Ch42    291\n",
      "BookOfEccleasiasticus_Ch43    314\n",
      "BookOfEccleasiasticus_Ch44    209\n",
      "BookOfEccleasiasticus_Ch45    303\n",
      "BookOfEccleasiasticus_Ch46    260\n",
      "BookOfEccleasiasticus_Ch47    557\n",
      "BookOfEccleasiasticus_Ch48    194\n",
      "BookOfEccleasiasticus_Ch49    323\n",
      "BookOfEccleasiasticus_Ch50    293\n",
      "dtype: int64, 'BookOfWisdom': Chapters\n",
      "BookOfWisdom_Ch1     165\n",
      "BookOfWisdom_Ch2     260\n",
      "BookOfWisdom_Ch3     175\n",
      "BookOfWisdom_Ch4     209\n",
      "BookOfWisdom_Ch5     262\n",
      "BookOfWisdom_Ch6     226\n",
      "BookOfWisdom_Ch7     277\n",
      "BookOfWisdom_Ch8     221\n",
      "BookOfWisdom_Ch9     215\n",
      "BookOfWisdom_Ch10    266\n",
      "BookOfWisdom_Ch11    325\n",
      "BookOfWisdom_Ch12    373\n",
      "BookOfWisdom_Ch13    217\n",
      "BookOfWisdom_Ch14    347\n",
      "BookOfWisdom_Ch15    237\n",
      "BookOfWisdom_Ch16    378\n",
      "BookOfWisdom_Ch17    246\n",
      "BookOfWisdom_Ch18    344\n",
      "BookOfWisdom_Ch19    284\n",
      "dtype: int64}\n"
     ]
    }
   ],
   "source": [
    "#Creating a deep copy of total_words\n",
    "\n",
    "total_words_chapter_copy = {key: value[:] for key, value in total_words_chapter.items()}\n",
    "\n",
    "total_words_chapter_copy[\"Buddhism\"].pop('Buddhism_Ch37')"
   ]
  },
  {
   "cell_type": "code",
   "execution_count": 78,
   "metadata": {},
   "outputs": [
    {
     "data": {
      "image/png": "[encoded data removed]",
      "text/plain": [
       "<Figure size 432x288 with 1 Axes>"
      ]
     },
     "metadata": {
      "needs_background": "light"
     },
     "output_type": "display_data"
    }
   ],
   "source": [
    "#Graphs after removing the outlier:\n",
    "\n",
    "chapters_dict = {}\n",
    "for book in total_words_chapter_copy.keys():\n",
    "    chapters = [key for key in total_words_chapter_copy[book].keys()]\n",
    "    chapters_count = [total_words_chapter_copy[book][key] for key in total_words_chapter_copy[book].keys()]\n",
    "    chapters_dict[book] = chapters_count\n",
    "\n",
    "fig, ax = plt.subplots()\n",
    "ax.boxplot(chapters_dict.values())\n",
    "ax.set_xticklabels(chapters_dict.keys())\n",
    "plt.show()"
   ]
  },
  {
   "cell_type": "code",
   "execution_count": 107,
   "metadata": {},
   "outputs": [
    {
     "data": {
      "image/png": "[encoded data removed]",
      "text/plain": [
       "<Figure size 432x288 with 8 Axes>"
      ]
     },
     "metadata": {
      "needs_background": "light"
     },
     "output_type": "display_data"
    }
   ],
   "source": [
    "figure, axes = plt.subplots(nrows=2, ncols=4)\n",
    "plt.title(\"Words Per Chapter\")\n",
    "colors = ['','blue', 'orange', 'green', 'red', 'purple', 'brown', 'pink', 'gray']\n",
    "index = 1\n",
    "for book in total_words_chapter_copy.keys():\n",
    "    chapters = [key for key in total_words_chapter_copy[book].keys()]\n",
    "    chapters_count = [total_words_chapter_copy[book][key] for key in total_words_chapter_copy[book].keys()]\n",
    "    \n",
    "    plt.subplot(2, 4, index) # row 1, col 2 index 1\n",
    "    plt.bar(chapters, chapters_count, color = colors[index])\n",
    "    plt.ylim(0, 600)\n",
    "    plt.title(book)\n",
    "    plt.xticks(\" \")\n",
    "    index += 1\n",
    "\n",
    "plt.subplots_adjust(left=0.1,\n",
    "                    bottom=0.1, \n",
    "                    right=1.2, \n",
    "                    top=0.9, \n",
    "                    wspace=0.8, \n",
    "                    hspace=0.4)\n",
    "\n",
    "plt.show()"
   ]
  },
  {
   "cell_type": "code",
   "execution_count": 281,
   "metadata": {},
   "outputs": [
    {
     "ename": "TypeError",
     "evalue": "'list' object is not callable",
     "output_type": "error",
     "traceback": [
      "\u001b[1;31m---------------------------------------------------------------------------\u001b[0m",
      "\u001b[1;31mTypeError\u001b[0m                                 Traceback (most recent call last)",
      "\u001b[1;32m<ipython-input-281-fdf566f1b8ec>\u001b[0m in \u001b[0;36m<module>\u001b[1;34m\u001b[0m\n\u001b[0;32m     10\u001b[0m \u001b[1;33m\u001b[0m\u001b[0m\n\u001b[0;32m     11\u001b[0m \u001b[0mcolors\u001b[0m \u001b[1;33m=\u001b[0m \u001b[1;33m{\u001b[0m\u001b[1;34m'Buddhism'\u001b[0m\u001b[1;33m:\u001b[0m\u001b[1;34m'blue'\u001b[0m\u001b[1;33m,\u001b[0m \u001b[1;34m'TaoTeChing'\u001b[0m\u001b[1;33m:\u001b[0m\u001b[1;34m'orange'\u001b[0m\u001b[1;33m,\u001b[0m \u001b[1;34m'Upanishad'\u001b[0m\u001b[1;33m:\u001b[0m\u001b[1;34m'green'\u001b[0m\u001b[1;33m,\u001b[0m \u001b[1;34m'YogaSutra'\u001b[0m\u001b[1;33m:\u001b[0m\u001b[1;34m'red'\u001b[0m\u001b[1;33m,\u001b[0m \u001b[1;34m'BookOfProverb'\u001b[0m\u001b[1;33m:\u001b[0m\u001b[1;34m'purple'\u001b[0m\u001b[1;33m,\u001b[0m \u001b[1;34m'BookOfEcclesiastes'\u001b[0m\u001b[1;33m:\u001b[0m\u001b[1;34m'brown'\u001b[0m\u001b[1;33m,\u001b[0m \u001b[1;34m'BookOfEcclesiasticus'\u001b[0m\u001b[1;33m:\u001b[0m\u001b[1;34m'pink'\u001b[0m\u001b[1;33m,\u001b[0m \u001b[1;34m'BookOfWisdom'\u001b[0m\u001b[1;33m:\u001b[0m\u001b[1;34m'gray'\u001b[0m\u001b[1;33m}\u001b[0m\u001b[1;33m\u001b[0m\u001b[1;33m\u001b[0m\u001b[0m\n\u001b[1;32m---> 12\u001b[1;33m \u001b[0mlabels\u001b[0m \u001b[1;33m=\u001b[0m \u001b[0mlist\u001b[0m\u001b[1;33m(\u001b[0m\u001b[0mcolors\u001b[0m\u001b[1;33m.\u001b[0m\u001b[0mkeys\u001b[0m\u001b[1;33m(\u001b[0m\u001b[1;33m)\u001b[0m\u001b[1;33m)\u001b[0m\u001b[1;33m\u001b[0m\u001b[1;33m\u001b[0m\u001b[0m\n\u001b[0m\u001b[0;32m     13\u001b[0m \u001b[0mhandles\u001b[0m \u001b[1;33m=\u001b[0m \u001b[1;33m[\u001b[0m\u001b[0mplt\u001b[0m\u001b[1;33m.\u001b[0m\u001b[0mRectangle\u001b[0m\u001b[1;33m(\u001b[0m\u001b[1;33m(\u001b[0m\u001b[1;36m0\u001b[0m\u001b[1;33m,\u001b[0m\u001b[1;36m0\u001b[0m\u001b[1;33m)\u001b[0m\u001b[1;33m,\u001b[0m\u001b[1;36m1\u001b[0m\u001b[1;33m,\u001b[0m\u001b[1;36m1\u001b[0m\u001b[1;33m,\u001b[0m \u001b[0mcolor\u001b[0m\u001b[1;33m=\u001b[0m\u001b[0mcolors\u001b[0m\u001b[1;33m[\u001b[0m\u001b[0mlabel\u001b[0m\u001b[1;33m]\u001b[0m\u001b[1;33m)\u001b[0m \u001b[1;32mfor\u001b[0m \u001b[0mlabel\u001b[0m \u001b[1;32min\u001b[0m \u001b[0mlabels\u001b[0m\u001b[1;33m]\u001b[0m\u001b[1;33m\u001b[0m\u001b[1;33m\u001b[0m\u001b[0m\n\u001b[0;32m     14\u001b[0m \u001b[0mplt\u001b[0m\u001b[1;33m.\u001b[0m\u001b[0mlegend\u001b[0m\u001b[1;33m(\u001b[0m\u001b[0mhandles\u001b[0m\u001b[1;33m,\u001b[0m \u001b[0mlabels\u001b[0m\u001b[1;33m,\u001b[0m \u001b[0mfontsize\u001b[0m \u001b[1;33m=\u001b[0m \u001b[1;36m9\u001b[0m\u001b[1;33m,\u001b[0m \u001b[0mncol\u001b[0m \u001b[1;33m=\u001b[0m \u001b[1;36m2\u001b[0m\u001b[1;33m)\u001b[0m\u001b[1;33m\u001b[0m\u001b[1;33m\u001b[0m\u001b[0m\n",
      "\u001b[1;31mTypeError\u001b[0m: 'list' object is not callable"
     ]
    },
    {
     "data": {
      "image/png": "[encoded data removed]",
      "text/plain": [
       "<Figure size 432x288 with 1 Axes>"
      ]
     },
     "metadata": {
      "needs_background": "light"
     },
     "output_type": "display_data"
    }
   ],
   "source": [
    "for book in total_words_chapter_copy.keys():\n",
    "    chapters = [key for key in total_words_chapter_copy[book].keys()]\n",
    "    chapters_count = [total_words_chapter_copy[book][key] for key in total_words_chapter_copy[book].keys()]\n",
    "    plt.bar(chapters, chapters_count)\n",
    "\n",
    "plt.xlabel(\"Chapters\")\n",
    "plt.ylabel(\"Word Count\")\n",
    "plt.xticks(\" \")\n",
    "plt.title(\"Words Per Chapter Per Book\")\n",
    "\n",
    "colors = {'Buddhism':'blue', 'TaoTeChing':'orange', 'Upanishad':'green', 'YogaSutra':'red', 'BookOfProverb':'purple', 'BookOfEcclesiastes':'brown', 'BookOfEcclesiasticus':'pink', 'BookOfWisdom':'gray'}         \n",
    "labels = list(colors.keys())\n",
    "handles = [plt.Rectangle((0,0),1,1, color=colors[label]) for label in labels]\n",
    "plt.legend(handles, labels, fontsize = 9, ncol = 2)\n",
    "\n",
    "plt.show()"
   ]
  },
  {
   "cell_type": "code",
   "execution_count": 282,
   "metadata": {},
   "outputs": [
    {
     "ename": "TypeError",
     "evalue": "'numpy.ndarray' object is not callable",
     "output_type": "error",
     "traceback": [
      "\u001b[1;31m---------------------------------------------------------------------------\u001b[0m",
      "\u001b[1;31mTypeError\u001b[0m                                 Traceback (most recent call last)",
      "\u001b[1;32m<ipython-input-282-282b9d5b58d7>\u001b[0m in \u001b[0;36m<module>\u001b[1;34m\u001b[0m\n\u001b[0;32m      1\u001b[0m \u001b[1;31m# Count of Top 20 Words vs Total Words\u001b[0m\u001b[1;33m\u001b[0m\u001b[1;33m\u001b[0m\u001b[1;33m\u001b[0m\u001b[0m\n\u001b[0;32m      2\u001b[0m \u001b[1;32mfor\u001b[0m \u001b[0mi\u001b[0m \u001b[1;32min\u001b[0m \u001b[0mrange\u001b[0m\u001b[1;33m(\u001b[0m\u001b[0mlen\u001b[0m\u001b[1;33m(\u001b[0m\u001b[0mtop_20_books\u001b[0m\u001b[1;33m)\u001b[0m\u001b[1;33m)\u001b[0m\u001b[1;33m:\u001b[0m\u001b[1;33m\u001b[0m\u001b[1;33m\u001b[0m\u001b[0m\n\u001b[1;32m----> 3\u001b[1;33m     \u001b[0mprint\u001b[0m\u001b[1;33m(\u001b[0m\u001b[0mlist\u001b[0m\u001b[1;33m(\u001b[0m\u001b[0mtop_20_books\u001b[0m\u001b[1;33m[\u001b[0m\u001b[1;36m0\u001b[0m\u001b[1;33m]\u001b[0m\u001b[1;33m[\u001b[0m\u001b[1;33m:\u001b[0m\u001b[1;36m20\u001b[0m\u001b[1;33m]\u001b[0m\u001b[1;33m.\u001b[0m\u001b[0mvalues\u001b[0m\u001b[1;33m(\u001b[0m\u001b[1;33m)\u001b[0m\u001b[1;33m)\u001b[0m\u001b[1;33m)\u001b[0m\u001b[1;33m\u001b[0m\u001b[1;33m\u001b[0m\u001b[0m\n\u001b[0m",
      "\u001b[1;31mTypeError\u001b[0m: 'numpy.ndarray' object is not callable"
     ]
    }
   ],
   "source": [
    "# Count of Top 20 Words vs Total Words\n",
    "for i in range(len(top_20_books)):\n",
    "    print(list(top_20_books[0][:20].values()))"
   ]
  },
  {
   "cell_type": "code",
   "execution_count": 193,
   "metadata": {
    "scrolled": true
   },
   "outputs": [
    {
     "data": {
      "image/png": "[encoded data removed]",
      "text/plain": [
       "<Figure size 432x288 with 8 Axes>"
      ]
     },
     "metadata": {
      "needs_background": "light"
     },
     "output_type": "display_data"
    }
   ],
   "source": [
    "#plot histogram of first 20\n",
    "\n",
    "colors = ['','blue', 'orange', 'green', 'red', 'purple', 'brown', 'pink', 'gray']\n",
    "index = 1\n",
    "for i in range(len(top_20_books)):\n",
    "    counts = [top_20_books[i][j] for j in range(0,20)]\n",
    "    counts_reverse = counts[::-1]\n",
    "    top_20 = list(top_20_books[i][:20].keys())\n",
    "    \n",
    "    plt.subplot(2, 4, index) # row 2, col 4, index\n",
    "    plt.barh(top_20, counts_reverse, color = colors[index])\n",
    "    plt.xlim(0, 550)\n",
    "    index += 1\n",
    "    \n",
    "plt.subplots_adjust(left=0.1,\n",
    "                    bottom=0.1, \n",
    "                    right=1.2, \n",
    "                    top=2.1, \n",
    "                    wspace=1.0, \n",
    "                    hspace=0.1)"
   ]
  },
  {
   "cell_type": "code",
   "execution_count": 257,
   "metadata": {},
   "outputs": [
    {
     "data": {
      "image/png": "[encoded data removed]",
      "text/plain": [
       "<Figure size 576x360 with 8 Axes>"
      ]
     },
     "metadata": {
      "needs_background": "light"
     },
     "output_type": "display_data"
    }
   ],
   "source": [
    "#plot histogram of first 20 but trying something new\n",
    "\n",
    "#first row of the graph\n",
    "fig, axs = plt.subplots(2,4, figsize=(8,5))\n",
    "colors = ['','blue', 'orange', 'green', 'red', 'purple', 'brown', 'pink', 'gray']\n",
    "index = 1\n",
    "for i in range(len(top_20_books)//2):\n",
    "    counts = [top_20_books[i][j] for j in range(0,20)]\n",
    "    counts_reverse = counts[::-1]\n",
    "    top_20 = list(top_20_books[i][:20].keys())\n",
    "    top_20_reversed = top_20[::-1]\n",
    "    \n",
    "    #plt.subplots(2, 4, index) # row 2, col 4, index\n",
    "    axs[0,i].barh(top_20_reversed, counts_reverse, color = colors[index])\n",
    "    axs[0,i].set_xlim([0, 550])\n",
    "    index += 1\n",
    "\n",
    "#second row of the graph   \n",
    "for i in range(len(top_20_books)//2, len(top_20_books)):\n",
    "    counts = [top_20_books[i][j] for j in range(0,20)]\n",
    "    counts_reverse = counts[::-1]\n",
    "    top_20 = list(top_20_books[i][:20].keys())\n",
    "    top_20_reversed = top_20[::-1]\n",
    "    \n",
    "    #plt.subplots(2, 4, index) # row 2, col 4, index\n",
    "    axs[1,i-4].barh(top_20_reversed, counts_reverse, color = colors[index])\n",
    "    axs[1,i-4].set_xlim([0, 550])\n",
    "    index += 1\n",
    "    \n",
    "plt.subplots_adjust(left=0.1,\n",
    "                    bottom=0.1, \n",
    "                    right=1.2, \n",
    "                    top=2.1, \n",
    "                    wspace=1.0, \n",
    "                    hspace=0.1)"
   ]
  },
  {
   "cell_type": "code",
   "execution_count": 283,
   "metadata": {},
   "outputs": [
    {
     "data": {
      "image/png": "[encoded data removed]",
      "text/plain": [
       "<Figure size 432x288 with 1 Axes>"
      ]
     },
     "metadata": {
      "needs_background": "light"
     },
     "output_type": "display_data"
    }
   ],
   "source": [
    "# Count of Top 20 Words vs Total Words\n",
    "twenty_totals = []\n",
    "for i in range(len(top_20_books)):\n",
    "    top_20_total = sum([top_20_books[i][:20][j] for j in range(len(top_20_books[0][:20]))])\n",
    "    twenty_totals.append(top_20_total)\n",
    "\n",
    "all_totals = []\n",
    "for book in total_words_book:\n",
    "    all_totals.append(total_words_book[book])\n",
    "\n",
    "proportions = []\n",
    "for i in range(len(twenty_totals)):\n",
    "    proportions.append(twenty_totals[i] / all_totals[i])\n",
    "    \n",
    "    plt.barh(books[i], proportions[i], color = \"mediumpurple\")\n",
    "plt.show()"
   ]
  },
  {
   "cell_type": "code",
   "execution_count": 275,
   "metadata": {},
   "outputs": [
    {
     "name": "stdout",
     "output_type": "stream",
     "text": [
      "shall\n",
      "things\n",
      "thy\n",
      "god\n",
      "thou\n",
      "man\n",
      "wisdom\n",
      "upon\n",
      "made\n",
      "hath\n",
      "thee\n",
      "men\n",
      "lord\n",
      "life\n",
      "good\n",
      "us\n",
      "therefore\n",
      "might\n",
      "wicked\n",
      "children\n"
     ]
    }
   ],
   "source": [
    "lst = wisdom_20[:20].keys()\n",
    "for i in lst:\n",
    "    print(i)"
   ]
  },
  {
   "cell_type": "code",
   "execution_count": 300,
   "metadata": {},
   "outputs": [
    {
     "name": "stdout",
     "output_type": "stream",
     "text": [
      "['Buddhism', 'TaoTeChing', 'Upanishad', 'YogaSutra', 'BookOfProverb', 'BookOfEcclesiastes', 'BookOfEccleasiasticus', 'BookOfWisdom']\n",
      "shall          389\n",
      "man            176\n",
      "thy            165\n",
      "thou            93\n",
      "wicked          92\n",
      "              ... \n",
      "circuits         0\n",
      "foreseen         0\n",
      "reasoning        0\n",
      "destroyedst      0\n",
      "successors       0\n",
      "Length: 8266, dtype: int64\n",
      "shall          89\n",
      "man            71\n",
      "hath           46\n",
      "god            46\n",
      "things         46\n",
      "               ..\n",
      "touch           0\n",
      "hinder          0\n",
      "astray          0\n",
      "idealistic      0\n",
      "foolishness     0\n",
      "Length: 8266, dtype: int64\n",
      "shall          120\n",
      "things          89\n",
      "thy             86\n",
      "god             67\n",
      "thou            61\n",
      "              ... \n",
      "wherever         0\n",
      "disquiet         0\n",
      "distributed      0\n",
      "diligent         0\n",
      "foolishness      0\n",
      "Length: 8266, dtype: int64\n"
     ]
    }
   ],
   "source": [
    "print(books)\n",
    "print(top_20_books[4])\n",
    "print(top_20_books[5])\n",
    "print(top_20_books[7])"
   ]
  },
  {
   "cell_type": "markdown",
   "metadata": {},
   "source": [
    "# 3. Naive Bayes Algorithm"
   ]
  },
  {
   "cell_type": "code",
   "execution_count": 8,
   "metadata": {},
   "outputs": [],
   "source": [
    "total_three_books = total_words_book[\"BookOfProverb\"] + total_words_book['BookOfEcclesiastes'] + total_words_book['BookOfWisdom']\n",
    "\n",
    "proverb_index = 4\n",
    "eccle_index = 5\n",
    "wisdom_index = 7\n",
    "\n",
    "total_proverb = sum([top_20_books[proverb_index][j] for j in range(len(top_20_books[0]))]) + 1\n",
    "total_eccle = sum([top_20_books[eccle_index][j] for j in range(len(top_20_books[0]))]) + 1\n",
    "total_wisdom = sum([top_20_books[wisdom_index][j] for j in range(len(top_20_books[0]))]) + 1\n",
    "\n",
    "prob_proverb = total_proverb / total_three_books + 1\n",
    "prob_eccle = total_eccle / total_three_books + 1\n",
    "prob_wisdom = total_wisdom / total_three_books + 1\n",
    "\n",
    "top_books = [j for j in [i.iloc[:,1:].sum() for i in book_list]]"
   ]
  },
  {
   "cell_type": "code",
   "execution_count": 9,
   "metadata": {},
   "outputs": [],
   "source": [
    "# RUN ONCE #\n",
    "proverb_feature_list = [((top_books[proverb_index][i] + 1) / total_proverb) for i in range(len(top_books[proverb_index]))]\n",
    "eccle_feature_list = [((top_books[eccle_index][i] + 1) / total_eccle) for i in range(len(top_books[proverb_index]))]\n",
    "wisdom_feature_list = [(top_books[wisdom_index][i] + 1) / total_wisdom for i in range(len(top_books[proverb_index]))]"
   ]
  },
  {
   "cell_type": "code",
   "execution_count": 23,
   "metadata": {},
   "outputs": [
    {
     "name": "stdout",
     "output_type": "stream",
     "text": [
      "Chapters       BookOfProverb_Ch1\n",
      "foolishness                    0\n",
      "hath                           0\n",
      "wholesome                      0\n",
      "takest                         0\n",
      "                     ...        \n",
      "visual                         0\n",
      "thoughts                       0\n",
      "illumines                      0\n",
      "attire                         0\n",
      "explains                       0\n",
      "Name: 478, Length: 8267, dtype: object\n"
     ]
    }
   ],
   "source": [
    "# INPUT CHAPTER DATA FOR CLASSIFICATION #\n",
    "input_chapter = data_train.iloc[478]\n",
    "print(input_chapter)"
   ]
  },
  {
   "cell_type": "code",
   "execution_count": 11,
   "metadata": {},
   "outputs": [],
   "source": [
    "# PREDICTION #\n",
    "def book_classifier_prediction(input_chapter):\n",
    "    #Probability of Proverb Given Features\n",
    "    proverb_prob_product = prob_proverb\n",
    "    for feature in range(len(top_books[proverb_index])):\n",
    "        if input_chapter[feature] > 1:\n",
    "            #print(input_chapter[feature])\n",
    "            prob_feature_given_proverb = (proverb_feature_list[feature] * (input_chapter[feature] + 1))\n",
    "            #print(prob_feature_given_proverb)\n",
    "            proverb_prob_product *= prob_feature_given_proverb\n",
    "            #print(proverb_prob_product)\n",
    "\n",
    "\n",
    "    #Probability of Ecclesiastes Given Features\n",
    "    eccle_prob_product = prob_eccle\n",
    "    for feature in range(len(top_books[eccle_index])):\n",
    "        if input_chapter[feature] > 1:\n",
    "            prob_feature_given_eccle = (eccle_feature_list[feature] * (input_chapter[feature] + 1))\n",
    "            eccle_prob_product *= prob_feature_given_eccle\n",
    "\n",
    "    #Probability of Wisdom Given Features\n",
    "    wisdom_prob_product = prob_wisdom\n",
    "    for feature in range(len(top_books[wisdom_index])):\n",
    "        if input_chapter[feature] > 1:\n",
    "            prob_feature_given_wisdom = (wisdom_feature_list[feature] * (input_chapter[feature] + 1))\n",
    "            wisdom_prob_product *= prob_feature_given_wisdom\n",
    "\n",
    "    # CLASSIFICATION #\n",
    "    if max(proverb_prob_product, eccle_prob_product, wisdom_prob_product) == proverb_prob_product:\n",
    "        return \"BookOfProverb\"\n",
    "    elif max(proverb_prob_product, eccle_prob_product, wisdom_prob_product) == eccle_prob_product:\n",
    "        return \"BookOfEcclesiastes\"\n",
    "    else:\n",
    "        return \"BookOfWisdom\"\n",
    "\n",
    "    #return estimated_label"
   ]
  },
  {
   "cell_type": "code",
   "execution_count": 28,
   "metadata": {},
   "outputs": [
    {
     "name": "stdout",
     "output_type": "stream",
     "text": [
      "['BookOfProverb', 'BookOfProverb', 'BookOfProverb', 'BookOfProverb', 'BookOfProverb', 'BookOfProverb', 'BookOfProverb', 'BookOfProverb', 'BookOfProverb', 'BookOfProverb', 'BookOfProverb', 'BookOfProverb', 'BookOfProverb', 'BookOfProverb', 'BookOfProverb', 'BookOfProverb', 'BookOfProverb', 'BookOfProverb', 'BookOfProverb', 'BookOfProverb', 'BookOfProverb', 'BookOfProverb', 'BookOfProverb', 'BookOfProverb', 'BookOfProverb', 'BookOfProverb', 'BookOfProverb', 'BookOfProverb', 'BookOfProverb', 'BookOfProverb', 'BookOfProverb', 'BookOfEcclesiastes', 'BookOfEcclesiastes', 'BookOfEcclesiastes', 'BookOfEcclesiastes', 'BookOfEcclesiastes', 'BookOfEcclesiastes', 'BookOfEcclesiastes', 'BookOfEcclesiastes', 'BookOfEcclesiastes', 'BookOfEcclesiastes', 'BookOfEcclesiastes', 'BookOfEcclesiastes', 'BookOfWisdom', 'BookOfWisdom', 'BookOfWisdom', 'BookOfWisdom', 'BookOfWisdom', 'BookOfWisdom', 'BookOfWisdom', 'BookOfWisdom', 'BookOfWisdom', 'BookOfWisdom', 'BookOfWisdom', 'BookOfWisdom', 'BookOfWisdom', 'BookOfWisdom', 'BookOfWisdom', 'BookOfWisdom', 'BookOfWisdom', 'BookOfWisdom', 'BookOfWisdom']\n"
     ]
    }
   ],
   "source": [
    "# CALCULATE ERROR #\n",
    "true_label = ['BookOfProverb'] * 31 + ['BookOfEcclesiastes'] * 12 + ['BookOfWisdom'] * 19\n",
    "estimated_labels = []\n",
    "\n",
    "for chapter in range(478, 521):\n",
    "    estimated_labels.append(book_classifier_prediction(data_test.iloc[chapter]))\n",
    "    \n",
    "for chapter in range(571, 590):\n",
    "    estimated_labels.append(book_classifier_prediction(data_test.iloc[chapter]))\n",
    "    \n",
    "print(estimated_labels)"
   ]
  },
  {
   "cell_type": "code",
   "execution_count": null,
   "metadata": {},
   "outputs": [],
   "source": []
  }
 ],
 "metadata": {
  "kernelspec": {
   "display_name": "Python 3",
   "language": "python",
   "name": "python3"
  },
  "language_info": {
   "codemirror_mode": {
    "name": "ipython",
    "version": 3
   },
   "file_extension": ".py",
   "mimetype": "text/x-python",
   "name": "python",
   "nbconvert_exporter": "python",
   "pygments_lexer": "ipython3",
   "version": "3.8.5"
  }
 },
 "nbformat": 4,
 "nbformat_minor": 4
}
